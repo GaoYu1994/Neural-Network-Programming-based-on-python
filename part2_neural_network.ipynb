{
 "cells": [
  {
   "cell_type": "markdown",
   "metadata": {},
   "source": [
    "#### 神经网络类定义"
   ]
  },
  {
   "cell_type": "code",
   "execution_count": 8,
   "metadata": {},
   "outputs": [],
   "source": [
    "import numpy as np\n",
    "import scipy.special as S\n",
    "class neuralNetwork:\n",
    "#初始化神经网络,构造函数\n",
    "    def __init__(self, inputnodes, hiddennodes, outputnodes, learningrate):\n",
    "        #设置每个输入、隐藏、输出层中的节点数\n",
    "        self.inodes = inputnodes\n",
    "        self.hnodes = hiddennodes\n",
    "        self.onodes = outputnodes\n",
    "        \n",
    "        #链接权重矩阵，wih和who\n",
    "        # weights inside the arrays are w_i_j, where link is from node i to node j in the next layer\n",
    "        # w11 w21\n",
    "        # w12 w22 etc \n",
    "        self.wih = np.random.normal(0.0, pow(self.inodes, -0.5), (self.hnodes, self.inodes))\n",
    "        self.who = np.random.normal(0.0, pow(self.hnodes, -0.5), (self.onodes, self.hnodes))\n",
    "        \n",
    "        #学习率\n",
    "        self.lr = learningrate\n",
    "        \n",
    "        #创建激活函数（函数的另一种定义方法,这样以后可以直接调用）\n",
    "        self.activation_function = lambda x: S.expit(x)\n",
    "        \n",
    "        pass\n",
    "    \n",
    "#训练神经网络\n",
    "    def train(self, inputs_list, targets_list):\n",
    "        #将输入列表转换成二维数组\n",
    "        inputs = np.array(inputs_list, ndmin = 2).T\n",
    "        targets = np.array(targets_list, ndmin = 2).T\n",
    "        \n",
    "        #将输入信号计算到隐藏层\n",
    "        hidden_inputs = np.dot(self.wih, inputs)\n",
    "        #计算隐藏层中输出的信号(使用激活函数计算)\n",
    "        hidden_outputs = self.activation_function(hidden_inputs)\n",
    "        #将传输的信号计算到输出层\n",
    "        final_inputs = np.dot(self.who, hidden_outputs)\n",
    "        #计算输出层中输出的信号（使用激活函数）\n",
    "        final_outputs = self.activation_function(final_inputs)\n",
    "        \n",
    "        #计算输出层的误差：（target - actual）(预期目标输出值-实际计算得到的输出值)\n",
    "        output_errors = targets - final_outputs\n",
    "        #隐藏层的误差：是输出层误差按权重分割，在隐藏节点上重新组合\n",
    "        hidden_errors = np.dot(self.who.T, output_errors)\n",
    "        \n",
    "        #反向传播，更新各层权重\n",
    "        #更新隐层和输出层之间的权重\n",
    "        self.who += self.lr*np.dot((output_errors*final_outputs*(1.0 - final_outputs)), np.transpose(hidden_outputs))\n",
    "        #更新输入层和隐藏层之间的权重\n",
    "        self.wih += self.lr*np.dot((hidden_errors*hidden_outputs*(1.0 - hidden_outputs)), np.transpose(inputs))\n",
    "        #pass一般用于占位置，定义一个空函数程序会报错，当没有想好函数的内容可以用pass填充，使得程序正常运行\n",
    "        pass\n",
    "    \n",
    "#查询神经网络：接受神经网络的输入，返回神经网络的输出\n",
    "    def query(self, inputs_list):\n",
    "        #将输入列表转换成二维数组\n",
    "        inputs = np.array(inputs_list, ndmin = 2).T\n",
    "        \n",
    "        #将输入信号计算到隐藏层\n",
    "        hidden_inputs = np.dot(self.wih, inputs)\n",
    "        #将信号从隐藏层输出\n",
    "        hidden_outputs = self.activation_function(hidden_inputs)\n",
    "        #将信号引入到输出层\n",
    "        final_inputs = np.dot(self.who, hidden_outputs)\n",
    "        #将信号从输出层输出\n",
    "        final_outputs = self.activation_function(final_inputs)\n",
    "        \n",
    "        #返回输出层的输出值\n",
    "        return final_outputs"
   ]
  },
  {
   "cell_type": "markdown",
   "metadata": {},
   "source": [
    "#### 测试自己的神经网络"
   ]
  },
  {
   "cell_type": "code",
   "execution_count": 3,
   "metadata": {},
   "outputs": [],
   "source": [
    "#输入、隐藏和输出节点的数量\n",
    "input_nodes = 3\n",
    "hidden_nodes = 3\n",
    "output_nodes = 3\n",
    "\n",
    "#设置学习率\n",
    "learning_rate = 0.3\n"
   ]
  },
  {
   "cell_type": "markdown",
   "metadata": {},
   "source": [
    "##### 创建神经网络实例,即对定义的神经网络类进行实例化，得到实例化后的对象n"
   ]
  },
  {
   "cell_type": "code",
   "execution_count": 9,
   "metadata": {},
   "outputs": [],
   "source": [
    "n = neuralNetwork(input_nodes, hidden_nodes, output_nodes, learning_rate)"
   ]
  },
  {
   "cell_type": "code",
   "execution_count": 10,
   "metadata": {},
   "outputs": [
    {
     "data": {
      "text/plain": [
       "array([[0.60056288],\n",
       "       [0.23387184],\n",
       "       [0.3741958 ]])"
      ]
     },
     "execution_count": 10,
     "metadata": {},
     "output_type": "execute_result"
    }
   ],
   "source": [
    "n.query([1.0, 0.5, -1.5])"
   ]
  }
 ],
 "metadata": {
  "kernelspec": {
   "display_name": "Python 3",
   "language": "python",
   "name": "python3"
  },
  "language_info": {
   "codemirror_mode": {
    "name": "ipython",
    "version": 3
   },
   "file_extension": ".py",
   "mimetype": "text/x-python",
   "name": "python",
   "nbconvert_exporter": "python",
   "pygments_lexer": "ipython3",
   "version": "3.7.0"
  }
 },
 "nbformat": 4,
 "nbformat_minor": 2
}
